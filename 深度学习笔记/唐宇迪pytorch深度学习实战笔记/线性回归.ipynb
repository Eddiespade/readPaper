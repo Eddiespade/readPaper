{
 "cells": [
  {
   "cell_type": "markdown",
   "id": "3c0fe683",
   "metadata": {},
   "source": [
    "### 一个简单的线性回归示例"
   ]
  },
  {
   "cell_type": "markdown",
   "id": "5d755dbd",
   "metadata": {},
   "source": [
    "构造一组输入数据x和其对应的标签y"
   ]
  },
  {
   "cell_type": "code",
   "execution_count": 3,
   "id": "99db92c9",
   "metadata": {},
   "outputs": [],
   "source": [
    "import numpy as np"
   ]
  },
  {
   "cell_type": "code",
   "execution_count": 4,
   "id": "4672fa0c",
   "metadata": {},
   "outputs": [
    {
     "data": {
      "text/plain": [
       "(11, 1)"
      ]
     },
     "execution_count": 4,
     "metadata": {},
     "output_type": "execute_result"
    }
   ],
   "source": [
    "x_values = [i for i in range(11)]\n",
    "x_train = np.array(x_values, dtype=np.float32)\n",
    "x_train = x_train.reshape(-1,1)\n",
    "x_train.shape"
   ]
  },
  {
   "cell_type": "code",
   "execution_count": 5,
   "id": "f1369a1a",
   "metadata": {},
   "outputs": [
    {
     "data": {
      "text/plain": [
       "(11, 1)"
      ]
     },
     "execution_count": 5,
     "metadata": {},
     "output_type": "execute_result"
    }
   ],
   "source": [
    "y_values = [2*i for i in range(11)]\n",
    "y_train = np.array(y_values, dtype=np.float32)\n",
    "y_train = y_train.reshape(-1,1)\n",
    "y_train.shape"
   ]
  },
  {
   "cell_type": "code",
   "execution_count": 6,
   "id": "48e89277",
   "metadata": {},
   "outputs": [],
   "source": [
    "import torch\n",
    "import torch.nn as nn"
   ]
  },
  {
   "cell_type": "markdown",
   "id": "de2e4f46",
   "metadata": {},
   "source": [
    "### 线性回归模型\n",
    " - 线性回归：一个不加激活函数的全连接层"
   ]
  },
  {
   "cell_type": "code",
   "execution_count": 7,
   "id": "c2530ba4",
   "metadata": {},
   "outputs": [],
   "source": [
    "class LinearRegressionModel(nn.Module):\n",
    "    def __init__(self, input_dim, output_dim):\n",
    "        super(LinearRegressionModel, self).__init__()\n",
    "        self.linear = nn.Linear(input_dim, output_dim)\n",
    "        \n",
    "    def forward(self, x):\n",
    "        out = self.linear(x)\n",
    "        return out"
   ]
  },
  {
   "cell_type": "code",
   "execution_count": 9,
   "id": "f0b8bfa8",
   "metadata": {},
   "outputs": [
    {
     "data": {
      "text/plain": [
       "LinearRegressionModel(\n",
       "  (linear): Linear(in_features=1, out_features=1, bias=True)\n",
       ")"
      ]
     },
     "execution_count": 9,
     "metadata": {},
     "output_type": "execute_result"
    }
   ],
   "source": [
    "input_dim=1\n",
    "output_dim=1\n",
    "\n",
    "model = LinearRegressionModel(input_dim, output_dim)\n",
    "model"
   ]
  },
  {
   "cell_type": "markdown",
   "id": "029bcc29",
   "metadata": {},
   "source": [
    "指定参数和损失函数"
   ]
  },
  {
   "cell_type": "code",
   "execution_count": 12,
   "id": "5b3fd925",
   "metadata": {},
   "outputs": [],
   "source": [
    "epochs = 1000\n",
    "learning_ratr = 0.01\n",
    "optimizer = torch.optim.SGD(model.parameters(), lr=learning_ratr)\n",
    "criterion = nn.MSELoss()"
   ]
  },
  {
   "cell_type": "markdown",
   "id": "d7873892",
   "metadata": {},
   "source": [
    "训练模型"
   ]
  },
  {
   "cell_type": "code",
   "execution_count": 14,
   "id": "c3366c8b",
   "metadata": {},
   "outputs": [
    {
     "name": "stdout",
     "output_type": "stream",
     "text": [
      "epoch 50,  loss 1.8544662907515885e-06\n",
      "epoch 100,  loss 1.057708232110599e-06\n",
      "epoch 150,  loss 6.033063755239709e-07\n",
      "epoch 200,  loss 3.4431349149599555e-07\n",
      "epoch 250,  loss 1.9635518810900976e-07\n",
      "epoch 300,  loss 1.1191932713927599e-07\n",
      "epoch 350,  loss 6.383306327961691e-08\n",
      "epoch 400,  loss 3.6413386084177546e-08\n",
      "epoch 450,  loss 2.0803865297125412e-08\n",
      "epoch 500,  loss 1.1852460346517546e-08\n",
      "epoch 550,  loss 6.745045855183207e-09\n",
      "epoch 600,  loss 3.868805276141529e-09\n",
      "epoch 650,  loss 2.192278802937153e-09\n",
      "epoch 700,  loss 1.2461554010911868e-09\n",
      "epoch 750,  loss 7.193050044485005e-10\n",
      "epoch 800,  loss 4.0872746853715114e-10\n",
      "epoch 850,  loss 2.3131084547767244e-10\n",
      "epoch 900,  loss 1.3421619371456472e-10\n",
      "epoch 950,  loss 7.325604706176492e-11\n",
      "epoch 1000,  loss 4.3637451291322904e-11\n"
     ]
    }
   ],
   "source": [
    "for epoch in range(epochs):\n",
    "    epoch += 1\n",
    "    # 数据转为tensor格式\n",
    "    inputs = torch.from_numpy(x_train)\n",
    "    label = torch.from_numpy(y_train)\n",
    "    # 梯度清零\n",
    "    optimizer.zero_grad()\n",
    "    # 前向传播\n",
    "    outputs = model(inputs)\n",
    "    # 计算损失\n",
    "    loss = criterion(outputs, label)\n",
    "    # 反向传播\n",
    "    loss.backward()\n",
    "    # 优化迭代更新参数\n",
    "    optimizer.step()\n",
    "    \n",
    "    # 打印相关的信息\n",
    "    if epoch % 50 == 0:\n",
    "        print('epoch {},  loss {}'.format(epoch, loss.detach().item()))\n",
    "    "
   ]
  },
  {
   "cell_type": "markdown",
   "id": "21a46e41",
   "metadata": {},
   "source": [
    "### 测试模型并预测结果"
   ]
  },
  {
   "cell_type": "code",
   "execution_count": 16,
   "id": "b499548b",
   "metadata": {},
   "outputs": [
    {
     "data": {
      "text/plain": [
       "array([[1.2312010e-05],\n",
       "       [2.0000105e+00],\n",
       "       [4.0000086e+00],\n",
       "       [6.0000072e+00],\n",
       "       [8.0000048e+00],\n",
       "       [1.0000004e+01],\n",
       "       [1.2000002e+01],\n",
       "       [1.4000000e+01],\n",
       "       [1.5999998e+01],\n",
       "       [1.7999996e+01],\n",
       "       [1.9999994e+01]], dtype=float32)"
      ]
     },
     "execution_count": 16,
     "metadata": {},
     "output_type": "execute_result"
    }
   ],
   "source": [
    "predicted = model(torch.from_numpy(x_train).requires_grad_()).data.numpy()\n",
    "predicted"
   ]
  },
  {
   "cell_type": "markdown",
   "id": "f05943cd",
   "metadata": {},
   "source": [
    "### 模型的保存和读取"
   ]
  },
  {
   "cell_type": "code",
   "execution_count": 17,
   "id": "b70901ab",
   "metadata": {},
   "outputs": [
    {
     "data": {
      "text/plain": [
       "<All keys matched successfully>"
      ]
     },
     "execution_count": 17,
     "metadata": {},
     "output_type": "execute_result"
    }
   ],
   "source": [
    "torch.save(model.state_dict(), 'model.pkl')\n",
    "model.load_state_dict(torch.load('model.pkl'))"
   ]
  },
  {
   "cell_type": "markdown",
   "id": "ab40570a",
   "metadata": {},
   "source": [
    "### 使用GPU训练\n",
    "- 只需要把**数据和模型**传入到cuda里面就可以了"
   ]
  },
  {
   "cell_type": "code",
   "execution_count": 20,
   "id": "2c675c6f",
   "metadata": {},
   "outputs": [
    {
     "name": "stdout",
     "output_type": "stream",
     "text": [
      "cuda:0\n",
      "epoch 50,  loss 0.0012587368255481124\n",
      "epoch 100,  loss 0.0007179318927228451\n",
      "epoch 150,  loss 0.00040948358946479857\n",
      "epoch 200,  loss 0.00023354956647381186\n",
      "epoch 250,  loss 0.00013320926518645138\n",
      "epoch 300,  loss 7.597674266435206e-05\n",
      "epoch 350,  loss 4.333373726694845e-05\n",
      "epoch 400,  loss 2.471643892931752e-05\n",
      "epoch 450,  loss 1.4097093298914842e-05\n",
      "epoch 500,  loss 8.040269676712342e-06\n",
      "epoch 550,  loss 4.5863112063671e-06\n",
      "epoch 600,  loss 2.615967559904675e-06\n",
      "epoch 650,  loss 1.4921160982339643e-06\n",
      "epoch 700,  loss 8.509024382874486e-07\n",
      "epoch 750,  loss 4.852959136769641e-07\n",
      "epoch 800,  loss 2.76942017762849e-07\n",
      "epoch 850,  loss 1.5789576934821525e-07\n",
      "epoch 900,  loss 9.000461176356112e-08\n",
      "epoch 950,  loss 5.140690717553298e-08\n",
      "epoch 1000,  loss 2.9284267455409463e-08\n"
     ]
    }
   ],
   "source": [
    "import torch\n",
    "import torch.nn as nn\n",
    "import numpy as np\n",
    "\n",
    "\n",
    "class LinearRegressionModel(nn.Module):\n",
    "    def __init__(self, input_dim, output_dim):\n",
    "        super(LinearRegressionModel, self).__init__()\n",
    "        self.linear = nn.Linear(input_dim, output_dim)\n",
    "        \n",
    "    def forward(self, x):\n",
    "        out = self.linear(x)\n",
    "        return out\n",
    "\n",
    "input_dim=1\n",
    "output_dim=1\n",
    "\n",
    "model = LinearRegressionModel(input_dim, output_dim)\n",
    "\n",
    "device = torch.device(\"cuda:0\" if torch.cuda.is_available() else \"cpu\")\n",
    "model.to(device)\n",
    "print(device)\n",
    "epochs = 1000\n",
    "learning_ratr = 0.01\n",
    "optimizer = torch.optim.SGD(model.parameters(), lr=learning_ratr)\n",
    "criterion = nn.MSELoss()\n",
    "\n",
    "for epoch in range(epochs):\n",
    "    epoch += 1\n",
    "    # 数据转为tensor格式\n",
    "    inputs = torch.from_numpy(x_train).to(device)\n",
    "    label = torch.from_numpy(y_train).to(device)\n",
    "    # 梯度清零\n",
    "    optimizer.zero_grad()\n",
    "    # 前向传播\n",
    "    outputs = model(inputs)\n",
    "    # 计算损失\n",
    "    loss = criterion(outputs, label)\n",
    "    # 反向传播\n",
    "    loss.backward()\n",
    "    # 优化迭代更新参数\n",
    "    optimizer.step()\n",
    "    \n",
    "    # 打印相关的信息\n",
    "    if epoch % 50 == 0:\n",
    "        print('epoch {},  loss {}'.format(epoch, loss.detach().item()))"
   ]
  }
 ],
 "metadata": {
  "kernelspec": {
   "display_name": "Python 3",
   "language": "python",
   "name": "python3"
  },
  "language_info": {
   "codemirror_mode": {
    "name": "ipython",
    "version": 3
   },
   "file_extension": ".py",
   "mimetype": "text/x-python",
   "name": "python",
   "nbconvert_exporter": "python",
   "pygments_lexer": "ipython3",
   "version": "3.8.8"
  }
 },
 "nbformat": 4,
 "nbformat_minor": 5
}
